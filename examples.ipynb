{
 "cells": [
  {
   "cell_type": "code",
   "execution_count": 8,
   "metadata": {},
   "outputs": [],
   "source": [
    "from simpson import *\n",
    "from trapecio import *\n",
    "from math import *\n",
    "\n",
    "#Simpson\n",
    "def funcion_1(x):\n",
    "    return (x**2) * log(x)\n",
    "\n",
    "def cuartaDerivada_1(x):\n",
    "    return -2/(x**2)\n",
    "\n",
    "#Trapecio\n",
    "def funcion_8(x):\n",
    "    return (x-1)*((2*x)+3)\n",
    "\n",
    "def segundaDerivadaIntegrada_8(x):\n",
    "    return 4*x"
   ]
  },
  {
   "cell_type": "code",
   "execution_count": 9,
   "metadata": {},
   "outputs": [
    {
     "name": "stdout",
     "output_type": "stream",
     "text": [
      "(0.1922587602549004, 6.153549382716074e-07)\n"
     ]
    }
   ],
   "source": [
    "print(procesoSimpson(funcion_1, cuartaDerivada_1, 5, 1, 1.5))"
   ]
  },
  {
   "cell_type": "code",
   "execution_count": 10,
   "metadata": {},
   "outputs": [
    {
     "name": "stdout",
     "output_type": "stream",
     "text": [
      "(-1.3163265306122456, -0.18367346938775508)\n"
     ]
    }
   ],
   "source": [
    "print(procesoTrapecio(funcion_8, segundaDerivadaIntegrada_8, 7, -1, 2))"
   ]
  }
 ],
 "metadata": {
  "kernelspec": {
   "display_name": "Python 3.10.8 64-bit (microsoft store)",
   "language": "python",
   "name": "python3"
  },
  "language_info": {
   "codemirror_mode": {
    "name": "ipython",
    "version": 3
   },
   "file_extension": ".py",
   "mimetype": "text/x-python",
   "name": "python",
   "nbconvert_exporter": "python",
   "pygments_lexer": "ipython3",
   "version": "3.10.8"
  },
  "orig_nbformat": 4,
  "vscode": {
   "interpreter": {
    "hash": "f05704f4740528ec32f28c6a01955d2cfab9eb44c7658f067771bac1ea3accf5"
   }
  }
 },
 "nbformat": 4,
 "nbformat_minor": 2
}
