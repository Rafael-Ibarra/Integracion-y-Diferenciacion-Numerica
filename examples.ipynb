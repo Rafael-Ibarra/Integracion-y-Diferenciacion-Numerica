{
 "cells": [
  {
   "cell_type": "code",
   "execution_count": 1,
   "metadata": {},
   "outputs": [],
   "source": [
    "from simpson import *\n",
    "from trapecio import *\n",
    "from math import *\n",
    "\n",
    "def funcion(x):\n",
    "    return 1/((x+1)**2)\n",
    "\n",
    "def cuartaDerivada(x):\n",
    "    return 120/((x+1)**6)\n",
    "\n",
    "def segundaDerivadaIntegrada(x):\n",
    "    return -(2/((x+1)**3))"
   ]
  },
  {
   "cell_type": "code",
   "execution_count": 2,
   "metadata": {},
   "outputs": [
    {
     "name": "stdout",
     "output_type": "stream",
     "text": [
      "(0.10002541229187804, -2.5416666666666667e-05)\n"
     ]
    }
   ],
   "source": [
    "print(procesoTrapecio(funcion, segundaDerivadaIntegrada, 10, 1, 1.5))"
   ]
  },
  {
   "cell_type": "code",
   "execution_count": 3,
   "metadata": {},
   "outputs": [
    {
     "name": "stdout",
     "output_type": "stream",
     "text": [
      "(0.10000067297592569, -8.024495442708334e-07)\n"
     ]
    }
   ],
   "source": [
    "print(procesoSimpson(funcion, cuartaDerivada, 4, 1, 1.5))"
   ]
  },
  {
   "cell_type": "code",
   "execution_count": 7,
   "metadata": {},
   "outputs": [
    {
     "name": "stdout",
     "output_type": "stream",
     "text": [
      "(0.10000460391257092, -5.70630787037037e-06)\n"
     ]
    }
   ],
   "source": [
    "print(procesoSimpson(funcion, cuartaDerivada, 3, 1, 1.5))"
   ]
  },
  {
   "cell_type": "code",
   "execution_count": 8,
   "metadata": {},
   "outputs": [
    {
     "name": "stdout",
     "output_type": "stream",
     "text": [
      "(0.10000009733536652, -1.025934064375979e-07)\n"
     ]
    }
   ],
   "source": [
    "print(procesoSimpson(funcion, cuartaDerivada, 7, 1, 1.5))"
   ]
  }
 ],
 "metadata": {
  "kernelspec": {
   "display_name": "Python 3.10.8 64-bit (microsoft store)",
   "language": "python",
   "name": "python3"
  },
  "language_info": {
   "codemirror_mode": {
    "name": "ipython",
    "version": 3
   },
   "file_extension": ".py",
   "mimetype": "text/x-python",
   "name": "python",
   "nbconvert_exporter": "python",
   "pygments_lexer": "ipython3",
   "version": "3.10.8"
  },
  "orig_nbformat": 4,
  "vscode": {
   "interpreter": {
    "hash": "f05704f4740528ec32f28c6a01955d2cfab9eb44c7658f067771bac1ea3accf5"
   }
  }
 },
 "nbformat": 4,
 "nbformat_minor": 2
}
