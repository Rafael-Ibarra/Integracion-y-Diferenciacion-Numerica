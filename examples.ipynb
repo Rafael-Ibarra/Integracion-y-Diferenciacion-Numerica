{
 "cells": [
  {
   "cell_type": "code",
   "execution_count": 1,
   "metadata": {},
   "outputs": [],
   "source": [
    "from simpson import *\n",
    "from trapecio import *\n",
    "from math import *\n",
    "\n",
    "def funcion(x):\n",
    "    return 1/((x+1)**2)\n",
    "\n",
    "def cuartaDerivada(x):\n",
    "    return 120/((x+1)**6)\n",
    "\n",
    "def segundaDerivadaIntegrada(x):\n",
    "    return -(2/((x+1)**3))"
   ]
  },
  {
   "cell_type": "code",
   "execution_count": 2,
   "metadata": {},
   "outputs": [
    {
     "name": "stdout",
     "output_type": "stream",
     "text": [
      "(0.10002541229187804, -2.5416666666666667e-05)\n"
     ]
    }
   ],
   "source": [
    "print(procesoTrapecio(funcion, segundaDerivadaIntegrada, 10, 1, 1.5))"
   ]
  },
  {
   "cell_type": "code",
   "execution_count": 3,
   "metadata": {},
   "outputs": [
    {
     "name": "stdout",
     "output_type": "stream",
     "text": [
      "(0.10000067297592569, -8.024495442708334e-07)\n"
     ]
    }
   ],
   "source": [
    "print(procesoSimpson(funcion, cuartaDerivada, 4, 1, 1.5))"
   ]
  },
  {
   "cell_type": "code",
   "execution_count": 4,
   "metadata": {},
   "outputs": [
    {
     "ename": "TypeError",
     "evalue": "reglaImpar() takes 4 positional arguments but 5 were given",
     "output_type": "error",
     "traceback": [
      "\u001b[1;31m---------------------------------------------------------------------------\u001b[0m",
      "\u001b[1;31mTypeError\u001b[0m                                 Traceback (most recent call last)",
      "Cell \u001b[1;32mIn [4], line 1\u001b[0m\n\u001b[1;32m----> 1\u001b[0m \u001b[39mprint\u001b[39m(procesoSimpson(funcion, cuartaDerivada, \u001b[39m3\u001b[39;49m, \u001b[39m1\u001b[39;49m, \u001b[39m1.5\u001b[39;49m))\n",
      "File \u001b[1;32mc:\\Users\\rafae\\OneDrive\\Documentos\\GitHub\\Integracion-y-Diferenciacion-Numerica\\simpson.py:55\u001b[0m, in \u001b[0;36mprocesoSimpson\u001b[1;34m(funcion, cuartaDerivada, segmentos, a, b)\u001b[0m\n\u001b[0;32m     53\u001b[0m     \u001b[39mreturn\u001b[39;00m (i1 \u001b[39m+\u001b[39m i2), (e1 \u001b[39m+\u001b[39m e2)\n\u001b[0;32m     54\u001b[0m \u001b[39melse\u001b[39;00m:\n\u001b[1;32m---> 55\u001b[0m     i, e \u001b[39m=\u001b[39m reglaImpar(cuartaDerivada, fx, segmentos, a, b)\n\u001b[0;32m     56\u001b[0m     \u001b[39mreturn\u001b[39;00m i, e\n",
      "\u001b[1;31mTypeError\u001b[0m: reglaImpar() takes 4 positional arguments but 5 were given"
     ]
    }
   ],
   "source": [
    "print(procesoSimpson(funcion, cuartaDerivada, 3, 1, 1.5))"
   ]
  }
 ],
 "metadata": {
  "kernelspec": {
   "display_name": "Python 3.10.8 64-bit (microsoft store)",
   "language": "python",
   "name": "python3"
  },
  "language_info": {
   "codemirror_mode": {
    "name": "ipython",
    "version": 3
   },
   "file_extension": ".py",
   "mimetype": "text/x-python",
   "name": "python",
   "nbconvert_exporter": "python",
   "pygments_lexer": "ipython3",
   "version": "3.10.8"
  },
  "orig_nbformat": 4,
  "vscode": {
   "interpreter": {
    "hash": "f05704f4740528ec32f28c6a01955d2cfab9eb44c7658f067771bac1ea3accf5"
   }
  }
 },
 "nbformat": 4,
 "nbformat_minor": 2
}
